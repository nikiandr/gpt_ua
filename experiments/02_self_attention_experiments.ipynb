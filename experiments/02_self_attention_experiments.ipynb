{
 "cells": [
  {
   "cell_type": "code",
   "execution_count": 1,
   "metadata": {
    "collapsed": true,
    "ExecuteTime": {
     "end_time": "2023-08-05T17:16:49.235155649Z",
     "start_time": "2023-08-05T17:16:47.786979261Z"
    }
   },
   "outputs": [],
   "source": [
    "import torch\n",
    "import torch.nn.functional as F\n",
    "import torch.nn as nn"
   ]
  },
  {
   "cell_type": "code",
   "execution_count": 2,
   "outputs": [
    {
     "data": {
      "text/plain": "<torch._C.Generator at 0x7ff53fffc590>"
     },
     "execution_count": 2,
     "metadata": {},
     "output_type": "execute_result"
    }
   ],
   "source": [
    "torch.manual_seed(42)"
   ],
   "metadata": {
    "collapsed": false,
    "ExecuteTime": {
     "end_time": "2023-08-05T17:16:51.351733597Z",
     "start_time": "2023-08-05T17:16:51.327526908Z"
    }
   }
  },
  {
   "cell_type": "code",
   "execution_count": 3,
   "outputs": [
    {
     "data": {
      "text/plain": "torch.Size([4, 8, 2])"
     },
     "execution_count": 3,
     "metadata": {},
     "output_type": "execute_result"
    }
   ],
   "source": [
    "B, T, C = 4, 8, 2\n",
    "x = torch.randn(B, T, C)\n",
    "x.shape"
   ],
   "metadata": {
    "collapsed": false,
    "ExecuteTime": {
     "end_time": "2023-08-05T17:16:51.914747658Z",
     "start_time": "2023-08-05T17:16:51.908484014Z"
    }
   }
  },
  {
   "cell_type": "code",
   "execution_count": 4,
   "outputs": [],
   "source": [
    "xbow = torch.zeros((B, T, C))\n",
    "for batch in range(B):\n",
    "    for time in range(T):\n",
    "        prev = x[batch, :time+1]\n",
    "        xbow[batch, time] = torch.mean(prev, 0)"
   ],
   "metadata": {
    "collapsed": false,
    "ExecuteTime": {
     "end_time": "2023-08-05T17:16:52.001963957Z",
     "start_time": "2023-08-05T17:16:51.989534061Z"
    }
   }
  },
  {
   "cell_type": "code",
   "execution_count": 5,
   "outputs": [
    {
     "data": {
      "text/plain": "tensor([[[ 1.9269,  1.4873],\n         [ 1.4138, -0.3091],\n         [ 1.1687, -0.6176],\n         [ 0.8657, -0.8644],\n         [ 0.5422, -0.3617],\n         [ 0.3864, -0.5354],\n         [ 0.2272, -0.5388],\n         [ 0.1027, -0.3762]],\n\n        [[ 1.6423, -0.1596],\n         [ 0.5725,  0.1400],\n         [ 0.1289,  0.4528],\n         [ 0.2969,  0.7597],\n         [ 0.4933,  0.8671],\n         [ 0.5129,  0.9450],\n         [ 0.4065,  0.8160],\n         [ 0.3242,  0.8215]],\n\n        [[-1.3847, -0.8712],\n         [-0.8040,  0.4231],\n         [-0.4297,  0.1405],\n         [-0.2459, -0.0882],\n         [-0.5082,  0.1285],\n         [-0.5701,  0.0069],\n         [-0.6707,  0.3092],\n         [-0.7412,  0.2095]],\n\n        [[-0.9138, -0.6581],\n         [-0.4179, -0.0662],\n         [-0.4413,  0.3530],\n         [-0.5344,  0.0808],\n         [-0.7082,  0.0718],\n         [-0.6008,  0.1724],\n         [-0.5289,  0.4113],\n         [-0.6109,  0.5329]]])"
     },
     "execution_count": 5,
     "metadata": {},
     "output_type": "execute_result"
    }
   ],
   "source": [
    "xbow"
   ],
   "metadata": {
    "collapsed": false,
    "ExecuteTime": {
     "end_time": "2023-08-05T17:16:52.319933732Z",
     "start_time": "2023-08-05T17:16:52.196540312Z"
    }
   }
  },
  {
   "cell_type": "markdown",
   "source": [
    "## Same with matmul"
   ],
   "metadata": {
    "collapsed": false
   }
  },
  {
   "cell_type": "code",
   "execution_count": 6,
   "outputs": [
    {
     "data": {
      "text/plain": "tensor([[[ 1.9269,  1.4873],\n         [ 1.4138, -0.3091],\n         [ 1.1687, -0.6176],\n         [ 0.8657, -0.8644],\n         [ 0.5422, -0.3617],\n         [ 0.3864, -0.5354],\n         [ 0.2272, -0.5388],\n         [ 0.1027, -0.3762]],\n\n        [[ 1.6423, -0.1596],\n         [ 0.5725,  0.1400],\n         [ 0.1289,  0.4528],\n         [ 0.2969,  0.7597],\n         [ 0.4933,  0.8671],\n         [ 0.5129,  0.9450],\n         [ 0.4065,  0.8160],\n         [ 0.3242,  0.8215]],\n\n        [[-1.3847, -0.8712],\n         [-0.8040,  0.4231],\n         [-0.4297,  0.1405],\n         [-0.2459, -0.0882],\n         [-0.5082,  0.1285],\n         [-0.5701,  0.0069],\n         [-0.6707,  0.3092],\n         [-0.7412,  0.2095]],\n\n        [[-0.9138, -0.6581],\n         [-0.4179, -0.0662],\n         [-0.4413,  0.3530],\n         [-0.5344,  0.0808],\n         [-0.7082,  0.0718],\n         [-0.6008,  0.1724],\n         [-0.5289,  0.4113],\n         [-0.6109,  0.5329]]])"
     },
     "execution_count": 6,
     "metadata": {},
     "output_type": "execute_result"
    }
   ],
   "source": [
    "tril = torch.tril(torch.ones(T, T))\n",
    "tril /= tril.sum(1, keepdims=True)\n",
    "xbow_matr = tril @ x\n",
    "xbow_matr"
   ],
   "metadata": {
    "collapsed": false,
    "ExecuteTime": {
     "end_time": "2023-08-05T17:16:52.876949906Z",
     "start_time": "2023-08-05T17:16:52.264803241Z"
    }
   }
  },
  {
   "cell_type": "markdown",
   "source": [
    "## Same but with softmax softmax"
   ],
   "metadata": {
    "collapsed": false
   }
  },
  {
   "cell_type": "code",
   "execution_count": 7,
   "outputs": [
    {
     "data": {
      "text/plain": "tensor([[1.0000, 0.0000, 0.0000, 0.0000, 0.0000, 0.0000, 0.0000, 0.0000],\n        [0.5000, 0.5000, 0.0000, 0.0000, 0.0000, 0.0000, 0.0000, 0.0000],\n        [0.3333, 0.3333, 0.3333, 0.0000, 0.0000, 0.0000, 0.0000, 0.0000],\n        [0.2500, 0.2500, 0.2500, 0.2500, 0.0000, 0.0000, 0.0000, 0.0000],\n        [0.2000, 0.2000, 0.2000, 0.2000, 0.2000, 0.0000, 0.0000, 0.0000],\n        [0.1667, 0.1667, 0.1667, 0.1667, 0.1667, 0.1667, 0.0000, 0.0000],\n        [0.1429, 0.1429, 0.1429, 0.1429, 0.1429, 0.1429, 0.1429, 0.0000],\n        [0.1250, 0.1250, 0.1250, 0.1250, 0.1250, 0.1250, 0.1250, 0.1250]])"
     },
     "execution_count": 7,
     "metadata": {},
     "output_type": "execute_result"
    }
   ],
   "source": [
    "wei = torch.zeros(T, T)\n",
    "wei = wei.masked_fill(torch.tril(torch.ones(T, T)) == 0, float('-inf'))\n",
    "wei = F.softmax(wei, dim=1)\n",
    "wei"
   ],
   "metadata": {
    "collapsed": false,
    "ExecuteTime": {
     "end_time": "2023-08-05T17:16:52.888347493Z",
     "start_time": "2023-08-05T17:16:52.288773678Z"
    }
   }
  },
  {
   "cell_type": "code",
   "execution_count": 8,
   "outputs": [
    {
     "data": {
      "text/plain": "tensor([[[ 1.9269,  1.4873],\n         [ 1.4138, -0.3091],\n         [ 1.1687, -0.6176],\n         [ 0.8657, -0.8644],\n         [ 0.5422, -0.3617],\n         [ 0.3864, -0.5354],\n         [ 0.2272, -0.5388],\n         [ 0.1027, -0.3762]],\n\n        [[ 1.6423, -0.1596],\n         [ 0.5725,  0.1400],\n         [ 0.1289,  0.4528],\n         [ 0.2969,  0.7597],\n         [ 0.4933,  0.8671],\n         [ 0.5129,  0.9450],\n         [ 0.4065,  0.8160],\n         [ 0.3242,  0.8215]],\n\n        [[-1.3847, -0.8712],\n         [-0.8040,  0.4231],\n         [-0.4297,  0.1405],\n         [-0.2459, -0.0882],\n         [-0.5082,  0.1285],\n         [-0.5701,  0.0069],\n         [-0.6707,  0.3092],\n         [-0.7412,  0.2095]],\n\n        [[-0.9138, -0.6581],\n         [-0.4179, -0.0662],\n         [-0.4413,  0.3530],\n         [-0.5344,  0.0808],\n         [-0.7082,  0.0718],\n         [-0.6008,  0.1724],\n         [-0.5289,  0.4113],\n         [-0.6109,  0.5329]]])"
     },
     "execution_count": 8,
     "metadata": {},
     "output_type": "execute_result"
    }
   ],
   "source": [
    "wei @ x"
   ],
   "metadata": {
    "collapsed": false,
    "ExecuteTime": {
     "end_time": "2023-08-05T17:16:52.888814072Z",
     "start_time": "2023-08-05T17:16:52.333121747Z"
    }
   }
  },
  {
   "cell_type": "markdown",
   "source": [
    "## Self-attention"
   ],
   "metadata": {
    "collapsed": false
   }
  },
  {
   "cell_type": "code",
   "execution_count": 21,
   "outputs": [],
   "source": [
    "def mask(inp: torch.Tensor) -> torch.Tensor:\n",
    "    return inp.masked_fill(torch.tril(torch.ones(T, T)) == 0, float('-inf'))"
   ],
   "metadata": {
    "collapsed": false,
    "ExecuteTime": {
     "end_time": "2023-08-05T17:55:51.936524175Z",
     "start_time": "2023-08-05T17:55:51.917997140Z"
    }
   }
  },
  {
   "cell_type": "code",
   "execution_count": 22,
   "outputs": [
    {
     "data": {
      "text/plain": "tensor([[[ 1.9269,  1.4873],\n         [ 1.2838, -0.7644],\n         [ 1.1342, -0.6618],\n         [ 0.2858, -1.5342],\n         [ 1.0300, -0.3864],\n         [-0.3604, -0.2428],\n         [-0.3803, -0.5656],\n         [ 0.0351, -0.6497]],\n\n        [[ 1.6423, -0.1596],\n         [ 0.4623,  0.1708],\n         [ 0.4445,  0.3149],\n         [ 1.4839,  0.1545],\n         [ 1.4105,  0.5621],\n         [ 1.3007,  0.6685],\n         [ 0.2506,  0.7846],\n         [ 0.6968,  0.7907]],\n\n        [[-1.3847, -0.8712],\n         [-0.4140,  1.2924],\n         [-0.4378,  0.2068],\n         [-0.4467, -0.0978],\n         [-0.9661, -0.1311],\n         [-1.2174, -0.0925],\n         [-0.2688, -0.1308],\n         [-1.2619,  0.0074]],\n\n        [[-0.9138, -0.6581],\n         [-0.2679,  0.1129],\n         [-0.3532,  0.4092],\n         [-0.7504, -0.3459],\n         [-1.0265, -0.2122],\n         [-0.4563,  0.2896],\n         [-0.2058,  0.7832],\n         [-0.6481,  0.3489]]], grad_fn=<UnsafeViewBackward0>)"
     },
     "execution_count": 22,
     "metadata": {},
     "output_type": "execute_result"
    }
   ],
   "source": [
    "head_size = 16\n",
    "# Linear projections to key an query space\n",
    "key = nn.Linear(C, head_size, bias=False) # (B, T, head_size)\n",
    "query = nn.Linear(C, head_size, bias=False)# (B, T, head_size)\n",
    "value = nn.Linear(C, head_size, bias=False)# (B, T, head_size)\n",
    "# get k, q\n",
    "k = key(x)\n",
    "q = query(x)\n",
    "v = value(x)\n",
    "qk =  q @ k.transpose(-1, -2) # (B, T, head_size) @ (B, head_size, T) -> (B, T, T)\n",
    "wei_masked = F.softmax(mask(qk), -1)\n",
    "wei_masked @ x # (B, T, T) @ (B, T, head_size) -> (B, T, head_size)"
   ],
   "metadata": {
    "collapsed": false,
    "ExecuteTime": {
     "end_time": "2023-08-05T17:55:52.074378534Z",
     "start_time": "2023-08-05T17:55:52.027125633Z"
    }
   }
  },
  {
   "cell_type": "code",
   "execution_count": 23,
   "outputs": [
    {
     "data": {
      "text/plain": "tensor([[1.0000, 0.0000, 0.0000, 0.0000, 0.0000, 0.0000, 0.0000, 0.0000],\n        [0.3733, 0.6267, 0.0000, 0.0000, 0.0000, 0.0000, 0.0000, 0.0000],\n        [0.3098, 0.3104, 0.3798, 0.0000, 0.0000, 0.0000, 0.0000, 0.0000],\n        [0.0232, 0.1486, 0.1982, 0.6300, 0.0000, 0.0000, 0.0000, 0.0000],\n        [0.3616, 0.2648, 0.2014, 0.1236, 0.0487, 0.0000, 0.0000, 0.0000],\n        [0.0036, 0.0378, 0.0490, 0.1842, 0.3950, 0.3304, 0.0000, 0.0000],\n        [0.0060, 0.0481, 0.0543, 0.1520, 0.2025, 0.2319, 0.3053, 0.0000],\n        [0.0727, 0.1466, 0.1307, 0.1509, 0.0969, 0.1522, 0.1381, 0.1120]],\n       grad_fn=<SelectBackward0>)"
     },
     "execution_count": 23,
     "metadata": {},
     "output_type": "execute_result"
    }
   ],
   "source": [
    "wei_masked[0]"
   ],
   "metadata": {
    "collapsed": false,
    "ExecuteTime": {
     "end_time": "2023-08-05T17:55:52.562932777Z",
     "start_time": "2023-08-05T17:55:52.559946233Z"
    }
   }
  },
  {
   "cell_type": "code",
   "execution_count": 44,
   "outputs": [
    {
     "data": {
      "text/plain": "(tensor(18.1281), tensor(1.1330))"
     },
     "execution_count": 44,
     "metadata": {},
     "output_type": "execute_result"
    }
   ],
   "source": [
    "q = torch.randn((B, T, head_size))\n",
    "k = torch.randn((B, T, head_size))\n",
    "(q@k.transpose(-2, -1)).var(), (q @ k.transpose(-2, -1) / (head_size ** 0.5)).var()"
   ],
   "metadata": {
    "collapsed": false,
    "ExecuteTime": {
     "end_time": "2023-08-05T18:42:04.055660784Z",
     "start_time": "2023-08-05T18:42:04.036954540Z"
    }
   }
  },
  {
   "cell_type": "code",
   "execution_count": null,
   "outputs": [],
   "source": [],
   "metadata": {
    "collapsed": false
   }
  }
 ],
 "metadata": {
  "kernelspec": {
   "display_name": "Python 3",
   "language": "python",
   "name": "python3"
  },
  "language_info": {
   "codemirror_mode": {
    "name": "ipython",
    "version": 2
   },
   "file_extension": ".py",
   "mimetype": "text/x-python",
   "name": "python",
   "nbconvert_exporter": "python",
   "pygments_lexer": "ipython2",
   "version": "2.7.6"
  }
 },
 "nbformat": 4,
 "nbformat_minor": 0
}
